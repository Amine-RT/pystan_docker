{
 "cells": [
  {
   "cell_type": "code",
   "execution_count": null,
   "metadata": {},
   "outputs": [],
   "source": [
    "import stan\n",
    "import nest_asyncio\n",
    "nest_asyncio.apply()\n",
    "import numpy as np\n",
    "import matplotlib.pyplot as plt"
   ]
  },
  {
   "cell_type": "code",
   "execution_count": null,
   "metadata": {},
   "outputs": [],
   "source": [
    "# Simulate data\n",
    "from student_grade_simulation import sample_student_grades\n",
    "n, p = 30, 5\n",
    "X, mu, sigma = sample_student_grades(n, p)\n",
    "sm_data = {'n':n, 'p':p, 'm':0, 'tau':0.5, 'a':1, 'b':0.5, 'X':X}"
   ]
  },
  {
   "cell_type": "code",
   "execution_count": null,
   "metadata": {},
   "outputs": [],
   "source": [
    "# Initialise stan object\n",
    "with open('student_grade_model.stan','r',newline='') as f:\n",
    "    sm = stan.build(f.read(),sm_data,random_seed=1)"
   ]
  },
  {
   "cell_type": "code",
   "execution_count": null,
   "metadata": {},
   "outputs": [],
   "source": [
    "# Select the number of MCMC chains and iterations, then sample\n",
    "chains, samples, burn = 4, 10000, 1000\n",
    "fit=sm.sample(num_chains=chains, num_samples=samples, num_warmup=burn, save_warmup=False)"
   ]
  },
  {
   "cell_type": "code",
   "execution_count": null,
   "metadata": {},
   "outputs": [],
   "source": [
    "def plot_samples(fit,par,name,true_val=None):\n",
    "    fig,axs=plt.subplots(2,2,figsize=(10,4),constrained_layout=True)\n",
    "    fig.canvas.manager.set_window_title('Posterior for '+par)\n",
    "    for i,j in [(i,j) for i in range(2) for j in range(2)]:\n",
    "        axs[i,j].autoscale(enable=True, axis='x', tight=True)\n",
    "    axs[0,0].set_title('Trace plot of log posterior density')\n",
    "    axs[0,1].set_title('Trace plot of posterior samples of '+name)\n",
    "    axs[1,0].set_title('Convergence of chain averages for '+name)\n",
    "    axs[1,1].set_title('Approximate posterior density of '+name)\n",
    "    par_mx=fit[par].reshape(samples,chains)\n",
    "    lp_mx=fit['lp__'].reshape(samples,chains)\n",
    "    for i in range(chains):\n",
    "        x=i*samples+np.arange(samples)\n",
    "        axs[0,0].plot(x,lp_mx[:,i])\n",
    "        axs[0,1].plot(x,par_mx[:,i])\n",
    "        axs[1,0].plot(x,np.cumsum(par_mx[:,i])/range(1,samples+1))\n",
    "    axs[1,1].hist(par_mx.flatten(),200, density=True);\n",
    "    if true_val is not None:\n",
    "        axs[1,1].axvline(true_val, color='c', lw=2, linestyle='--')\n",
    "    plt.show()\n",
    "\n",
    "plot_samples(fit,'mu',r'$\\mu$',true_val=mu)"
   ]
  }
 ],
 "metadata": {
  "kernelspec": {
   "display_name": "Python 3",
   "language": "python",
   "name": "python3"
  },
  "language_info": {
   "codemirror_mode": {
    "name": "ipython",
    "version": 3
   },
   "file_extension": ".py",
   "mimetype": "text/x-python",
   "name": "python",
   "nbconvert_exporter": "python",
   "pygments_lexer": "ipython3",
   "version": "3.7.6"
  }
 },
 "nbformat": 4,
 "nbformat_minor": 5
}
